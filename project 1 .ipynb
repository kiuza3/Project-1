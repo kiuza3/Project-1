{
 "cells": [
  {
   "cell_type": "markdown",
   "id": "7a58d49d",
   "metadata": {},
   "source": [
    "## import pandas as pd\n",
    "import numpy as np\n",
    "import matplotlib.pyplot as plt \n",
    "import seaborn as sns \n",
    "from scipy import stats"
   ]
  },
  {
   "cell_type": "markdown",
   "id": "1a66ae4a",
   "metadata": {},
   "source": [
    "# Data Exploration"
   ]
  },
  {
   "cell_type": "code",
   "execution_count": 1,
   "id": "e7fa21f8",
   "metadata": {},
   "outputs": [
    {
     "ename": "NameError",
     "evalue": "name 'pd' is not defined",
     "output_type": "error",
     "traceback": [
      "\u001b[0;31m---------------------------------------------------------------------------\u001b[0m",
      "\u001b[0;31mNameError\u001b[0m                                 Traceback (most recent call last)",
      "\u001b[0;32m/var/folders/60/jmwmydpj0r5bn65h6v6d7m640000gn/T/ipykernel_3756/44894869.py\u001b[0m in \u001b[0;36m<module>\u001b[0;34m\u001b[0m\n\u001b[0;32m----> 1\u001b[0;31m \u001b[0msh\u001b[0m \u001b[0;34m=\u001b[0m \u001b[0mpd\u001b[0m\u001b[0;34m.\u001b[0m\u001b[0mread_csv\u001b[0m\u001b[0;34m(\u001b[0m\u001b[0;34m'/Users/sky-walker/Downloads/final_project_student_mental_health_dataset.csv'\u001b[0m\u001b[0;34m)\u001b[0m\u001b[0;34m\u001b[0m\u001b[0;34m\u001b[0m\u001b[0m\n\u001b[0m\u001b[1;32m      2\u001b[0m \u001b[0msh\u001b[0m\u001b[0;34m.\u001b[0m\u001b[0mhead\u001b[0m\u001b[0;34m(\u001b[0m\u001b[0;34m)\u001b[0m\u001b[0;34m\u001b[0m\u001b[0;34m\u001b[0m\u001b[0m\n\u001b[1;32m      3\u001b[0m \u001b[0;31m#target is to determine how many studenst have a mental health issues.\u001b[0m\u001b[0;34m\u001b[0m\u001b[0;34m\u001b[0m\u001b[0m\n",
      "\u001b[0;31mNameError\u001b[0m: name 'pd' is not defined"
     ]
    }
   ],
   "source": [
    "sh = pd.read_csv('/Users/sky-walker/Downloads/final_project_student_mental_health_dataset.csv')\n",
    "sh.head()\n",
    "#target is to determine how many studenst have a mental health issues."
   ]
  },
  {
   "cell_type": "code",
   "execution_count": null,
   "id": "90b41a44",
   "metadata": {},
   "outputs": [],
   "source": [
    "#numerical feauturs \n",
    "sd_age = np.std(sh['age'])\n",
    "sd_gpa = np.std(sh['gpa'])\n",
    "\n",
    "print(sd_age)\n",
    "print(sd_gpa)"
   ]
  },
  {
   "cell_type": "code",
   "execution_count": null,
   "id": "f05b84a6",
   "metadata": {},
   "outputs": [],
   "source": [
    "#variance \n",
    "var_age = np.var(sh['age'])\n",
    "var_gpa = np.var(sh['gpa'])\n",
    "\n",
    "print(var_age)\n",
    "print(var_gpa)\n"
   ]
  },
  {
   "cell_type": "code",
   "execution_count": null,
   "id": "871cc506",
   "metadata": {},
   "outputs": [],
   "source": [
    "#mean,meadian, mode age\n",
    "mean_age = np.mean(sh.age)\n",
    "median_age = np.median(sh.age)\n",
    "mode_age = stats.mode(sh.age)\n",
    "\n",
    "print(mean_age)\n",
    "print(median_age)\n",
    "print(mode_age)\n",
    "\n"
   ]
  },
  {
   "cell_type": "code",
   "execution_count": null,
   "id": "9170a5df",
   "metadata": {},
   "outputs": [],
   "source": [
    "#mean,meadian, mode gpa\n",
    "\n",
    "mean_gpa = np.mean(sh.gpa)\n",
    "median_gpa = np.median(sh.gpa)\n",
    "mode_gpa = stats.mode(sh.gpa)\n",
    "\n",
    "print(mean_gpa)\n",
    "print(median_gpa)\n",
    "print(mode_gpa)\n",
    "\n"
   ]
  },
  {
   "cell_type": "markdown",
   "id": "c46a3e66",
   "metadata": {},
   "source": [
    "# Data Visualization \n"
   ]
  },
  {
   "cell_type": "code",
   "execution_count": null,
   "id": "00ee2b9b",
   "metadata": {},
   "outputs": [],
   "source": [
    "#visualization for gender \n",
    "Female = sh.loc[sh['gender'] == 'Female'].count()[0]\n",
    "Male = sh.loc[sh['gender'] == 'Male'].count()[0]\n",
    "Genderfluid = sh.loc[sh['gender'] == 'Genderfluid'].count()[0]\n",
    "Genderqueer = sh.loc[sh['gender'] == 'Genderqueer'].count()[0]\n",
    "Non_binary = sh.loc[sh['gender'] == 'Non-binary'].count()[0]\n",
    "Polygender = sh.loc[sh['gender'] == 'Polygender'].count()[0]\n",
    "Bigender = sh.loc[sh['gender'] == 'Bigender'].count()[0]\n",
    "Agender = sh.loc[sh['gender'] == 'Agender'].count()[0]\n",
    "\n",
    "plt.style.use('default')\n",
    "explode = (0,0,.5,.5,.5,.5,.5,.5)\n",
    "labels = ['Male', 'Female', 'Genderfluid', 'Genderqueer', 'Non_binary',\n",
    "         'Polygender','Bigender', 'Agender']\n",
    "colors = ['#dfd1f0', '#f2cece', '#cce88b', '#e88be5', '#5055e6',\n",
    "         '#50d2e6', '#8ae650', '#e650da']\n",
    "plt.pie([Male, Female, Genderfluid, Genderqueer, Non_binary,\n",
    "         Polygender,Bigender,Agender], labels = labels, colors = colors, autopct= \n",
    "       '%.2f %%', pctdistance=0.9, explode=explode)\n",
    "plt.title('Students Gender')\n",
    "plt.show()\n",
    "# majority of the population is male with 45.69%"
   ]
  },
  {
   "cell_type": "code",
   "execution_count": null,
   "id": "347d8dc7",
   "metadata": {},
   "outputs": [],
   "source": [
    "#GPA\n",
    "bins = [1.5,2,2.5,3,3.5,4]\n",
    "plt.hist(sh.gpa, color= '#323633', bins=bins)\n",
    "plt.ylabel('Number of Students')\n",
    "plt.xlabel('Level')\n",
    "plt.xticks(bins)\n",
    "plt.title('GPA')\n",
    "plt.show()\n",
    "\n",
    "# a gpa of 3.5-4 is the range where most students lie, this is accurate according to the mode of 3.88"
   ]
  },
  {
   "cell_type": "code",
   "execution_count": null,
   "id": "817337bd",
   "metadata": {},
   "outputs": [],
   "source": [
    "x1= ['17','18','19','20','21','22','23']\n",
    "h = [3561,3609,3552,3584,3580,3555,3559]\n",
    "plt.bar(x1, h)\n",
    "plt.xlabel('age')\n",
    "plt.ylabel('#Students')\n",
    "plt.show()\n",
    "# Most students are either 18 and 22-23 this are about the same \n",
    "# % of 28."
   ]
  },
  {
   "cell_type": "code",
   "execution_count": null,
   "id": "6d5ed140",
   "metadata": {},
   "outputs": [],
   "source": [
    "sns.displot(sh['class_status'], color = \"#db0f79\",bins=5, kde=False)\n",
    "#most students are freshmen - this is 48% of the data"
   ]
  },
  {
   "cell_type": "code",
   "execution_count": null,
   "id": "280340bd",
   "metadata": {},
   "outputs": [],
   "source": [
    "sns.displot(sh['marital_status'], color=\"#8c9c44\")\n",
    "# About more then 80% of students are not married \n",
    "# only about less then 8% of students are married \n",
    "# right- skewed "
   ]
  },
  {
   "cell_type": "code",
   "execution_count": null,
   "id": "9bccfd06",
   "metadata": {},
   "outputs": [],
   "source": [
    "Business = sh.loc[sh['major'] == 'Business'].count()[0]\n",
    "Communications = sh.loc[sh['major'] == 'Communications'].count()[0]\n",
    "Engineering = sh.loc[sh['major'] == 'Engineering'].count()[0]\n",
    "History = sh.loc[sh['major'] == 'History'].count()[0]\n",
    "Information_Systems = sh.loc[sh['major'] == 'Information Systems'].count()[0]\n",
    "Language = sh.loc[sh['major'] == 'Language'].count()[0]\n",
    "Life_Sciences = sh.loc[sh['major'] == 'Life Sciences'].count()[0]\n",
    "Social_Sciences = sh.loc[sh['major'] == 'Social Sciences'].count()[0]\n",
    "\n",
    "\n",
    "labels =['Business', 'Communications', 'Engineering', 'History', 'Information Systems',\n",
    "         'Language', 'Life Sciences', 'Social Sciences']    \n",
    "colors = ['#9c4473', '#403a57', '#ebbe09', '#f20f0f', '#0ff2d0',\n",
    "         '#0f79f2', '#0ff239', '#e650da']\n",
    "\n",
    "plt.style.use('ggplot')\n",
    "plt.title('Major')\n",
    "plt.pie([Business, Communications, Engineering, History, Information_Systems,\n",
    "       Language, Life_Sciences, Social_Sciences], labels=labels, colors=colors, autopct='%.2f%%', startangle=90)\n",
    "plt.axis('equal')\n",
    "plt.legend(loc='lower left', markerfirst=True, fontsize='small')\n",
    "\n",
    "circle = plt.Circle(xy=(0,0), radius= .75, facecolor='white')\n",
    "plt.gca().add_artist(circle)\n",
    "plt.show()\n",
    "# most students are majoring in social studies - this is the 23.55%\n",
    "# while Business and life sciences also hold huge percentage.\n",
    "        "
   ]
  },
  {
   "cell_type": "code",
   "execution_count": null,
   "id": "901de9ef",
   "metadata": {},
   "outputs": [],
   "source": [
    "sns.displot(sh['seeked_treatment'], color = '#ebbe09')\n",
    "sns.displot(sh['have_panicattacks'], color = '#0f79f2')\n",
    "# right skewed \n",
    "# less then 12% of the data seeked treatment\n",
    "#only 20% of the data reported experincing panick attacks.\n"
   ]
  },
  {
   "cell_type": "code",
   "execution_count": null,
   "id": "8e8ec3c1",
   "metadata": {},
   "outputs": [],
   "source": [
    "sns.displot(sh['have_depression'], color = '#f20f0f')\n",
    "sns.displot(sh['have_anxiety'], color=\"#7a161e\")\n",
    "# 32% of the data reported having depression and anxiety \n",
    "# thus depression and anxiety might have a correlation.\n",
    "# left-skewed "
   ]
  },
  {
   "cell_type": "markdown",
   "id": "99f87b6a",
   "metadata": {},
   "source": [
    "# Data Curation "
   ]
  },
  {
   "cell_type": "code",
   "execution_count": null,
   "id": "7e8337d4",
   "metadata": {},
   "outputs": [],
   "source": [
    "#outliers "
   ]
  },
  {
   "cell_type": "code",
   "execution_count": null,
   "id": "0960c42c",
   "metadata": {},
   "outputs": [],
   "source": [
    "#missing values \n",
    "sh.isnull().sum()\n",
    "# the prvious value will be used to fill in nan values"
   ]
  },
  {
   "cell_type": "code",
   "execution_count": null,
   "id": "3dda7860",
   "metadata": {},
   "outputs": [],
   "source": [
    "sh1 = sh.fillna(method = 'pad')\n",
    "sh1"
   ]
  },
  {
   "cell_type": "code",
   "execution_count": null,
   "id": "cd611103",
   "metadata": {},
   "outputs": [],
   "source": [
    "sh1.isnull().sum().sum()"
   ]
  },
  {
   "cell_type": "markdown",
   "id": "30790017",
   "metadata": {},
   "source": [
    "# Dummy code "
   ]
  },
  {
   "cell_type": "code",
   "execution_count": null,
   "id": "4a1f9b7a",
   "metadata": {},
   "outputs": [],
   "source": [
    "final_data = pd.get_dummies(sh1, columns=['major', 'gender', 'class_status', 'have_depression',\n",
    "                                         'have_anxiety', 'have_panicattacks'],\n",
    "                            drop_first=True)\n",
    "final_data.info()"
   ]
  },
  {
   "cell_type": "markdown",
   "id": "8a26cbf9",
   "metadata": {},
   "source": [
    "# Feauture engineering "
   ]
  },
  {
   "cell_type": "code",
   "execution_count": null,
   "id": "3ece5526",
   "metadata": {},
   "outputs": [],
   "source": [
    "# log transformation of age and gpa \n",
    "f, ax = plt.subplots(1, 2)\n",
    "\n",
    "ax[0].hist(sh1.gpa)\n",
    "ax[0].set_title('Gpa level')\n",
    "ax[1].hist(np.log(sh.gpa))\n",
    "ax[1].set_title('log Gpa level')"
   ]
  },
  {
   "cell_type": "markdown",
   "id": "2c1d358a",
   "metadata": {},
   "source": [
    "# One-Hot Encoding "
   ]
  },
  {
   "cell_type": "code",
   "execution_count": null,
   "id": "89a4a8d9",
   "metadata": {},
   "outputs": [],
   "source": [
    "from sklearn.feature_extraction.text import CountVectorizer\n",
    "\n",
    "vec = CountVectorizer()\n",
    "X = vec.fit_transform(sh1)\n",
    "X"
   ]
  },
  {
   "cell_type": "code",
   "execution_count": null,
   "id": "9d216d96",
   "metadata": {},
   "outputs": [],
   "source": [
    "pd.DataFrame(X.toarray(), columns=vec.get_feature_names())"
   ]
  },
  {
   "cell_type": "code",
   "execution_count": null,
   "id": "4f11e26c",
   "metadata": {},
   "outputs": [],
   "source": [
    "# Pca analysis was not necessary in our case , as we didnt have to reduce the \n",
    "# dimensionality of the data set "
   ]
  },
  {
   "cell_type": "markdown",
   "id": "ab8d4786",
   "metadata": {},
   "source": [
    "# Learning Model "
   ]
  },
  {
   "cell_type": "code",
   "execution_count": null,
   "id": "ec10affc",
   "metadata": {},
   "outputs": [],
   "source": [
    "#labeled data\n",
    "#Model relationships and dependencies between the target prediction \n",
    "#output and the input feautures \n",
    "#such that we can predict the output values for new data based on those relantionships."
   ]
  },
  {
   "cell_type": "code",
   "execution_count": null,
   "id": "9ba7dd97",
   "metadata": {},
   "outputs": [],
   "source": [
    "# I used a decision tree , as it is effective in stucturing models for probable outcomes, and possible consequences.\n",
    "# It also provides decision-making steps that can lead to a favorable result.\n",
    "# also due to the fact that i had mostly categorical features "
   ]
  },
  {
   "cell_type": "code",
   "execution_count": null,
   "id": "5190dd11",
   "metadata": {},
   "outputs": [],
   "source": [
    "from sklearn.model_selection import train_test_split"
   ]
  },
  {
   "cell_type": "code",
   "execution_count": null,
   "id": "6f8ed021",
   "metadata": {},
   "outputs": [],
   "source": [
    "X = final_data.drop('seeked_treatment',axis=1)\n",
    "y = final_data['seeked_treatment']\n",
    "X_train, X_test, y_train, y_test = train_test_split(X, y, test_size=0.25, random_state=101)\n",
    "\n",
    "# used 10% of the data,due to the fact that we don't have immense data \n",
    "# the data has more \"no\" then yes , so i dont want misrepresentation of data"
   ]
  },
  {
   "cell_type": "code",
   "execution_count": null,
   "id": "6cac7ce9",
   "metadata": {},
   "outputs": [],
   "source": [
    "from sklearn.tree import DecisionTreeClassifier"
   ]
  },
  {
   "cell_type": "code",
   "execution_count": null,
   "id": "6d2c817d",
   "metadata": {},
   "outputs": [],
   "source": [
    "dtree = DecisionTreeClassifier()"
   ]
  },
  {
   "cell_type": "code",
   "execution_count": null,
   "id": "63b231da",
   "metadata": {},
   "outputs": [],
   "source": [
    "dtree.fit(x_train,y_train)"
   ]
  },
  {
   "cell_type": "code",
   "execution_count": null,
   "id": "8c7b7861",
   "metadata": {},
   "outputs": [],
   "source": [
    "predictions = dtree.predict(x_test)"
   ]
  },
  {
   "cell_type": "code",
   "execution_count": null,
   "id": "30fabaad",
   "metadata": {},
   "outputs": [],
   "source": [
    "from sklearn.metrics import classification_report,confusion_matrix"
   ]
  },
  {
   "cell_type": "code",
   "execution_count": null,
   "id": "03fad433",
   "metadata": {},
   "outputs": [],
   "source": [
    "print(classification_report(y_test,predictions))"
   ]
  },
  {
   "cell_type": "code",
   "execution_count": null,
   "id": "b61a9c87",
   "metadata": {},
   "outputs": [],
   "source": [
    "print(confusion_matrix(y_test,predictions))"
   ]
  },
  {
   "cell_type": "code",
   "execution_count": null,
   "id": "445b3316",
   "metadata": {},
   "outputs": [],
   "source": []
  }
 ],
 "metadata": {
  "kernelspec": {
   "display_name": "Python 3 (ipykernel)",
   "language": "python",
   "name": "python3"
  },
  "language_info": {
   "codemirror_mode": {
    "name": "ipython",
    "version": 3
   },
   "file_extension": ".py",
   "mimetype": "text/x-python",
   "name": "python",
   "nbconvert_exporter": "python",
   "pygments_lexer": "ipython3",
   "version": "3.9.7"
  }
 },
 "nbformat": 4,
 "nbformat_minor": 5
}
